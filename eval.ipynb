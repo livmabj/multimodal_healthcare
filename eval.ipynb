{
 "cells": [
  {
   "cell_type": "markdown",
   "metadata": {},
   "source": [
    "# Evaluation of projection module"
   ]
  },
  {
   "cell_type": "code",
   "execution_count": 19,
   "metadata": {},
   "outputs": [],
   "source": [
    "import pickle\n",
    "import matplotlib.pyplot as plt\n",
    "from transformers import AutoTokenizer, AutoModelForCausalLM, BitsAndBytesConfig\n",
    "import torch\n",
    "import torch.nn as nn\n",
    "import torch.optim as optim\n",
    "from torch.utils.data import Dataset, DataLoader\n",
    "from focal_loss.focal_loss import FocalLoss\n",
    "import pandas as pd\n",
    "import numpy as np\n",
    "from sklearn.model_selection import train_test_split\n",
    "from sklearn.metrics import confusion_matrix, ConfusionMatrixDisplay, f1_score, roc_auc_score, accuracy_score, precision_score, recall_score, roc_curve\n",
    "import os\n",
    "from utils import *\n",
    "os.environ[\"TOKENIZERS_PARALLELISM\"] = \"false\"\n",
    "\n",
    "# Filepath to embeddings\n",
    "fname = \"/mnt/mimic/data/HAIM/mimic_extras/embeddings.csv\"\n",
    "\n",
    "# YES-TOKEN: 3276\n",
    "# NO-TOKEN: 956"
   ]
  },
  {
   "cell_type": "markdown",
   "metadata": {},
   "source": [
    "### Load data and make predictions"
   ]
  },
  {
   "cell_type": "code",
   "execution_count": 2,
   "metadata": {},
   "outputs": [
    {
     "data": {
      "application/vnd.jupyter.widget-view+json": {
       "model_id": "700a5fa711984746bea89ff4b3d3b24b",
       "version_major": 2,
       "version_minor": 0
      },
      "text/plain": [
       "Loading checkpoint shards:   0%|          | 0/2 [00:00<?, ?it/s]"
      ]
     },
     "metadata": {},
     "output_type": "display_data"
    }
   ],
   "source": [
    "quantization_config = BitsAndBytesConfig(load_in_4bit=True, \n",
    "                                         bnb_4bit_use_double_quant=True,\n",
    "                                         bnb_4bit_quant_type=\"nf4\",\n",
    "                                         bnb_4bit_compute_dtype=torch.bfloat16)\n",
    "\n",
    "tokenizer = AutoTokenizer.from_pretrained(\"google/gemma-2b\")\n",
    "gemma = AutoModelForCausalLM.from_pretrained(\"google/gemma-2b\", device_map=\"auto\", quantization_config=quantization_config)"
   ]
  },
  {
   "cell_type": "code",
   "execution_count": 9,
   "metadata": {},
   "outputs": [
    {
     "data": {
      "text/plain": [
       "ProjectionNN(\n",
       "  (fc1): Linear(in_features=1024, out_features=128, bias=True)\n",
       "  (relu): ReLU()\n",
       "  (fc2): Linear(in_features=128, out_features=12288, bias=True)\n",
       ")"
      ]
     },
     "execution_count": 9,
     "metadata": {},
     "output_type": "execute_result"
    }
   ],
   "source": [
    "model = torch.load('finetuned.pth').to('cuda')\n",
    "model.eval()"
   ]
  },
  {
   "cell_type": "code",
   "execution_count": 4,
   "metadata": {},
   "outputs": [],
   "source": [
    "input_text = \"Based on the following image, output yes if the patient is likely to die and no otherwise.\"\n",
    "input_ids = tokenizer(input_text, return_tensors=\"pt\").to(\"cuda\")\n",
    "word_embs = gemma.get_input_embeddings().weight[input_ids.input_ids].to(\"cuda\")"
   ]
  },
  {
   "cell_type": "code",
   "execution_count": 5,
   "metadata": {},
   "outputs": [],
   "source": [
    "df = pd.read_csv(fname)\n",
    "\n",
    "condition_death_small48 = (df['img_length_of_stay'] < 48) & (df['death_status'] == 1)\n",
    "condition_alive_big48 = (df['img_length_of_stay'] >= 48) & (df['death_status'] == 0)\n",
    "condition_death_big48 = (df['img_length_of_stay'] >= 48) & (df['death_status'] == 1)\n",
    "\n",
    "y = [0]*len(df)\n",
    "for i, condition in enumerate(condition_death_small48):\n",
    "    if condition:\n",
    "        y[i] = 1\n",
    "\n",
    "vd_cols = df.filter(regex='^vd_')\n",
    "y_col = pd.Series(y, name='y')\n",
    "haim_col = df[['haim_id']]\n",
    "df = pd.concat([haim_col, vd_cols, y_col], axis=1)\n",
    "\n",
    "pkl_list = df['haim_id'].unique().tolist()\n",
    "\n",
    "_, _, x_test, _, _ , labels = data_split(df,pkl_list)"
   ]
  },
  {
   "cell_type": "code",
   "execution_count": 17,
   "metadata": {},
   "outputs": [
    {
     "name": "stdout",
     "output_type": "stream",
     "text": [
      "item num  0\n",
      "item num  100\n",
      "item num  200\n",
      "item num  300\n",
      "item num  400\n",
      "item num  500\n",
      "item num  600\n",
      "item num  700\n",
      "item num  800\n",
      "item num  900\n",
      "item num  1000\n",
      "item num  1100\n",
      "item num  1200\n",
      "item num  1300\n",
      "item num  1400\n",
      "item num  1500\n",
      "item num  1600\n",
      "item num  1700\n",
      "item num  1800\n",
      "item num  1900\n",
      "item num  2000\n",
      "item num  2100\n",
      "item num  2200\n",
      "item num  2300\n",
      "item num  2400\n",
      "item num  2500\n",
      "item num  2600\n",
      "item num  2700\n",
      "item num  2800\n",
      "item num  2900\n",
      "item num  3000\n",
      "item num  3100\n",
      "item num  3200\n",
      "item num  3300\n",
      "item num  3400\n",
      "item num  3500\n",
      "item num  3600\n",
      "item num  3700\n",
      "item num  3800\n",
      "item num  3900\n",
      "item num  4000\n",
      "item num  4100\n",
      "item num  4200\n",
      "item num  4300\n",
      "item num  4400\n",
      "item num  4500\n",
      "item num  4600\n",
      "item num  4700\n",
      "item num  4800\n",
      "item num  4900\n",
      "item num  5000\n",
      "item num  5100\n",
      "item num  5200\n",
      "item num  5300\n",
      "item num  5400\n",
      "item num  5500\n",
      "item num  5600\n",
      "item num  5700\n",
      "item num  5800\n",
      "item num  5900\n",
      "item num  6000\n",
      "item num  6100\n",
      "item num  6200\n",
      "item num  6300\n",
      "item num  6400\n",
      "item num  6500\n",
      "item num  6600\n",
      "item num  6700\n",
      "item num  6800\n",
      "item num  6900\n",
      "item num  7000\n",
      "item num  7100\n",
      "item num  7200\n",
      "item num  7300\n",
      "item num  7400\n",
      "item num  7500\n"
     ]
    }
   ],
   "source": [
    "preds = []\n",
    "\n",
    "for i, item in enumerate(x_test):\n",
    "    inputs = torch.tensor(item, dtype=torch.float32).to('cuda')\n",
    "    emb = model.forward(inputs)\n",
    "    concatted = torch.cat((word_embs, emb), dim=1).to(torch.float16)\n",
    "    outputs = custom_output(concatted, gemma)\n",
    "    preds.append(output_to_label(outputs))\n",
    "    if i % 100 == 0:\n",
    "        print('item num ', i)"
   ]
  },
  {
   "cell_type": "markdown",
   "metadata": {},
   "source": [
    "### Confusion Matrix"
   ]
  },
  {
   "cell_type": "code",
   "execution_count": 26,
   "metadata": {},
   "outputs": [
    {
     "data": {
      "text/plain": [
       "<sklearn.metrics._plot.confusion_matrix.ConfusionMatrixDisplay at 0x7fd04903a570>"
      ]
     },
     "execution_count": 26,
     "metadata": {},
     "output_type": "execute_result"
    },
    {
     "data": {
      "image/png": "[encoded data removed]",
      "text/plain": [
       "<Figure size 640x480 with 2 Axes>"
      ]
     },
     "metadata": {},
     "output_type": "display_data"
    }
   ],
   "source": [
    "numpy_arrays = [t.cpu().numpy() for t in preds]\n",
    "preds = np.array(numpy_arrays)\n",
    "\n",
    "conf_matrix = confusion_matrix(labels, preds)\n",
    "disp = ConfusionMatrixDisplay(confusion_matrix=conf_matrix)\n",
    "disp.plot()"
   ]
  },
  {
   "cell_type": "markdown",
   "metadata": {},
   "source": [
    "### F1-score and AUC"
   ]
  },
  {
   "cell_type": "code",
   "execution_count": 28,
   "metadata": {},
   "outputs": [
    {
     "name": "stdout",
     "output_type": "stream",
     "text": [
      "f1:  0.04858910517579599\n",
      "auc:  0.5089870395634379\n"
     ]
    }
   ],
   "source": [
    "f1 = f1_score(labels, preds)\n",
    "auc = roc_auc_score(labels, preds)\n",
    "print('f1: ', f1)\n",
    "print('auc: ', auc)"
   ]
  },
  {
   "cell_type": "markdown",
   "metadata": {},
   "source": [
    "### Precision, Recall and Accuracy"
   ]
  },
  {
   "cell_type": "code",
   "execution_count": 29,
   "metadata": {},
   "outputs": [
    {
     "name": "stdout",
     "output_type": "stream",
     "text": [
      "precision:  0.02498835945987894\n",
      "recall:  0.875\n",
      "accuracy:  0.16089965397923875\n"
     ]
    }
   ],
   "source": [
    "precision = precision_score(labels, preds)\n",
    "recall = recall_score(labels, preds)\n",
    "accuracy = accuracy_score(labels, preds)\n",
    "print('precision: ', precision)\n",
    "print('recall: ', recall)\n",
    "print('accuracy: ', accuracy)"
   ]
  },
  {
   "cell_type": "markdown",
   "metadata": {},
   "source": [
    "### ROC-curve, FPR and TPR thresholds"
   ]
  },
  {
   "cell_type": "code",
   "execution_count": 30,
   "metadata": {},
   "outputs": [
    {
     "name": "stdout",
     "output_type": "stream",
     "text": [
      "fpr: [0.         0.85702592 1.        ]\n",
      "tpr:  [0.    0.875 1.   ]\n",
      "thresholds:  [inf  1.  0.]\n"
     ]
    }
   ],
   "source": [
    "fpr, tpr, thresholds = roc_curve(labels, preds)\n",
    "print('fpr:', fpr)\n",
    "print('tpr: ', tpr)\n",
    "print('thresholds: ', thresholds)"
   ]
  }
 ],
 "metadata": {
  "kernelspec": {
   "display_name": "gemma",
   "language": "python",
   "name": "python3"
  },
  "language_info": {
   "codemirror_mode": {
    "name": "ipython",
    "version": 3
   },
   "file_extension": ".py",
   "mimetype": "text/x-python",
   "name": "python",
   "nbconvert_exporter": "python",
   "pygments_lexer": "ipython3",
   "version": "3.12.2"
  }
 },
 "nbformat": 4,
 "nbformat_minor": 2
}
