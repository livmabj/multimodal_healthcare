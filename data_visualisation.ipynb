{
 "cells": [
  {
   "cell_type": "code",
   "execution_count": 9,
   "metadata": {},
   "outputs": [],
   "source": [
    "import torch\n",
    "import torch.nn as nn\n",
    "from torch.utils.data import Dataset, DataLoader, RandomSampler\n",
    "#from hp_utils import *\n",
    "import numpy as np\n",
    "from sklearn import metrics\n",
    "import torch.optim as optim\n",
    "#from sklearn.manifold import TSNE\n",
    "import plotly.express as px\n",
    "import matplotlib.pyplot as plt\n",
    "import pandas as pd\n",
    "import pickle\n",
    "import os\n",
    "from mlp_utils import *"
   ]
  },
  {
   "cell_type": "code",
   "execution_count": 2,
   "metadata": {},
   "outputs": [],
   "source": [
    "df = pd.read_csv(\"/mnt/mimic/data/HAIM/mimic_extras/embeddings.csv\")"
   ]
  },
  {
   "cell_type": "code",
   "execution_count": 7,
   "metadata": {},
   "outputs": [
    {
     "name": "stderr",
     "output_type": "stream",
     "text": [
      "/home/liv/multimodal_healthcare/mlp_utils.py:60: SettingWithCopyWarning: \n",
      "A value is trying to be set on a copy of a slice from a DataFrame.\n",
      "Try using .loc[row_indexer,col_indexer] = value instead\n",
      "\n",
      "See the caveats in the documentation: https://pandas.pydata.org/pandas-docs/stable/user_guide/indexing.html#returning-a-view-versus-a-copy\n",
      "  df_death_small48['y'] = 1\n",
      "/home/liv/multimodal_healthcare/mlp_utils.py:61: SettingWithCopyWarning: \n",
      "A value is trying to be set on a copy of a slice from a DataFrame.\n",
      "Try using .loc[row_indexer,col_indexer] = value instead\n",
      "\n",
      "See the caveats in the documentation: https://pandas.pydata.org/pandas-docs/stable/user_guide/indexing.html#returning-a-view-versus-a-copy\n",
      "  df_alive_big48['y'] = 0\n",
      "/home/liv/multimodal_healthcare/mlp_utils.py:62: SettingWithCopyWarning: \n",
      "A value is trying to be set on a copy of a slice from a DataFrame.\n",
      "Try using .loc[row_indexer,col_indexer] = value instead\n",
      "\n",
      "See the caveats in the documentation: https://pandas.pydata.org/pandas-docs/stable/user_guide/indexing.html#returning-a-view-versus-a-copy\n",
      "  df_death_big48['y'] = 0\n"
     ]
    }
   ],
   "source": [
    "Data = DataSplit(df)\n",
    "Data.split_data('mortality', random_state=1)\n",
    "\n",
    "X,V,T = Data.get_type('vd_')\n",
    "train_set = CustomDataset(X.values.tolist(), Data.y_train.tolist())\n",
    "val_set = CustomDataset(V.values.tolist(), Data.y_validation.tolist())\n",
    "\n",
    "# Create a RandomSampler with a fixed seed\n",
    "sampler = RandomSampler(train_set, replacement=False)\n",
    "\n",
    "train_loader = DataLoader(train_set, batch_size=32, sampler=sampler, num_workers = 5)\n",
    "val_loader = DataLoader(val_set, batch_size=32, num_workers = 5)"
   ]
  },
  {
   "cell_type": "code",
   "execution_count": 8,
   "metadata": {},
   "outputs": [
    {
     "name": "stdout",
     "output_type": "stream",
     "text": [
      "Loss: 464.1041, Accuracy: 665.2500\n",
      "f1:  0.0\n",
      "auc:  0.5\n"
     ]
    },
    {
     "data": {
      "image/png": "[encoded data removed]",
      "text/plain": [
       "<Figure size 640x480 with 2 Axes>"
      ]
     },
     "metadata": {},
     "output_type": "display_data"
    }
   ],
   "source": [
    "w0 = len(Data.y_train)/(2*sum(Data.y_train == 0))\n",
    "w1 = len(Data.y_train)/(2*sum(Data.y_train == 1))\n",
    "weights = torch.tensor([w0, w1], dtype = torch.float).to(\"cuda\")\n",
    "\n",
    "\n",
    "# Setting model and hyperparameters\n",
    "model = ProjectionNN()\n",
    "optimizer = optim.Adam(model.parameters(), lr=0.0003, weight_decay=1e-5)\n",
    "scheduler = optim.lr_scheduler.ReduceLROnPlateau(optimizer=optimizer, patience=7)\n",
    "loss_fn = nn.CrossEntropyLoss(weight=weights)\n",
    "#loss_fn = FocalLoss(gamma=-3)\n",
    "\n",
    "num_epochs = 10\n",
    "\n",
    "device = torch.device(\"cuda\" if torch.cuda.is_available() else \"cpu\")\n",
    "model.to(device)\n",
    "\n",
    "\n",
    "def output_to_label(z):\n",
    "    \"\"\"Map network output z to a hard label {0, 1}\n",
    "    \n",
    "    Args:\n",
    "        z (Tensor): Probabilities for each sample in a batch.\n",
    "    Returns:\n",
    "        c (Tensor): Hard label {0, 1} for each sample in a batch\n",
    "    \"\"\"\n",
    "    # YOUR CODE HERE\n",
    "    c = torch.round(z)\n",
    "    return c.long()\n",
    "\n",
    "val_loss_cum = 0\n",
    "val_acc_cum = 0\n",
    "model.eval()\n",
    "preds = []\n",
    "with torch.no_grad():\n",
    "    for batch_index, (x, y) in enumerate(val_loader, 1):\n",
    "        inputs, labels = x.to(device), y.to(device)\n",
    "\n",
    "        emb = model.forward(inputs)\n",
    "        #word_embs_extended = word_embs.repeat(len(inputs),1,1).detach()\n",
    "\n",
    "        #concatted = torch.cat((word_embs_extended, emb), dim=1).to(torch.float16)\n",
    "        #logits = custom_output(emb, gemma)\n",
    "\n",
    "        batch_loss = loss_fn(emb, labels.long())\n",
    "        val_loss_cum += batch_loss.item()\n",
    "        hard_preds = output_to_label(emb)\n",
    "        hard_preds = torch.argmax(hard_preds, dim=1)\n",
    "        preds.extend(hard_preds)\n",
    "        acc_batch_avg = (hard_preds == labels).float().mean().item()\n",
    "        val_acc_cum += acc_batch_avg\n",
    "print(f'Loss: {val_loss_cum:.4f}, Accuracy: {val_acc_cum:.4f}')\n",
    "\n",
    "\n",
    "numpy_arrays = [t.cpu().numpy() for t in preds]\n",
    "preds = np.array(numpy_arrays)\n",
    "\n",
    "conf_matrix = metrics.confusion_matrix(Data.y_validation.tolist(), preds)\n",
    "disp = metrics.ConfusionMatrixDisplay(confusion_matrix=conf_matrix)\n",
    "disp.plot()\n",
    "\n",
    "fig = plt.gcf()\n",
    "\n",
    "\n",
    "f1 = metrics.f1_score(Data.y_validation.tolist(), preds)\n",
    "auc = metrics.roc_auc_score(Data.y_validation.tolist(), preds)\n",
    "print('f1: ', f1)\n",
    "print('auc: ', auc)"
   ]
  },
  {
   "cell_type": "code",
   "execution_count": 8,
   "metadata": {},
   "outputs": [
    {
     "name": "stderr",
     "output_type": "stream",
     "text": [
      "Epoch 1/10: 100%|██████████| 1786/1786 [00:04<00:00, 386.63batch/s]\n"
     ]
    },
    {
     "name": "stdout",
     "output_type": "stream",
     "text": [
      "Epoch [1/5], Loss: 914239.9891\n"
     ]
    },
    {
     "name": "stderr",
     "output_type": "stream",
     "text": [
      "Epoch 2/10: 100%|██████████| 1786/1786 [00:05<00:00, 350.40batch/s]\n"
     ]
    },
    {
     "name": "stdout",
     "output_type": "stream",
     "text": [
      "Epoch [2/5], Loss: 830643.7307\n"
     ]
    },
    {
     "name": "stderr",
     "output_type": "stream",
     "text": [
      "Epoch 3/10: 100%|██████████| 1786/1786 [00:04<00:00, 374.66batch/s]\n"
     ]
    },
    {
     "name": "stdout",
     "output_type": "stream",
     "text": [
      "Epoch [3/5], Loss: 658050.7050\n"
     ]
    },
    {
     "name": "stderr",
     "output_type": "stream",
     "text": [
      "Epoch 4/10: 100%|██████████| 1786/1786 [00:04<00:00, 376.14batch/s]\n"
     ]
    },
    {
     "name": "stdout",
     "output_type": "stream",
     "text": [
      "Epoch [4/5], Loss: 453704.9405\n"
     ]
    },
    {
     "name": "stderr",
     "output_type": "stream",
     "text": [
      "Epoch 5/10: 100%|██████████| 1786/1786 [00:04<00:00, 384.20batch/s]\n"
     ]
    },
    {
     "name": "stdout",
     "output_type": "stream",
     "text": [
      "Epoch [5/5], Loss: 401106.6183\n"
     ]
    },
    {
     "name": "stderr",
     "output_type": "stream",
     "text": [
      "Epoch 6/10: 100%|██████████| 1786/1786 [00:04<00:00, 378.09batch/s]\n"
     ]
    },
    {
     "name": "stdout",
     "output_type": "stream",
     "text": [
      "Epoch [6/5], Loss: 278903.5145\n"
     ]
    },
    {
     "name": "stderr",
     "output_type": "stream",
     "text": [
      "Epoch 7/10: 100%|██████████| 1786/1786 [00:04<00:00, 373.81batch/s]\n"
     ]
    },
    {
     "name": "stdout",
     "output_type": "stream",
     "text": [
      "Epoch [7/5], Loss: 173651.3963\n"
     ]
    },
    {
     "name": "stderr",
     "output_type": "stream",
     "text": [
      "Epoch 8/10: 100%|██████████| 1786/1786 [00:05<00:00, 351.94batch/s]\n"
     ]
    },
    {
     "name": "stdout",
     "output_type": "stream",
     "text": [
      "Epoch [8/5], Loss: 254564.2777\n"
     ]
    },
    {
     "name": "stderr",
     "output_type": "stream",
     "text": [
      "Epoch 9/10: 100%|██████████| 1786/1786 [00:04<00:00, 363.08batch/s]\n"
     ]
    },
    {
     "name": "stdout",
     "output_type": "stream",
     "text": [
      "Epoch [9/5], Loss: 189668.4164\n"
     ]
    },
    {
     "name": "stderr",
     "output_type": "stream",
     "text": [
      "Epoch 10/10: 100%|██████████| 1786/1786 [00:05<00:00, 329.58batch/s]"
     ]
    },
    {
     "name": "stdout",
     "output_type": "stream",
     "text": [
      "Epoch [10/5], Loss: 131128.8972\n"
     ]
    },
    {
     "name": "stderr",
     "output_type": "stream",
     "text": [
      "\n"
     ]
    },
    {
     "name": "stdout",
     "output_type": "stream",
     "text": [
      "Validation - Epoch [10/10], Loss: 8573.7251, Accuracy: 28.6939\n",
      "f1:  0.09236947791164658\n",
      "auc:  0.5832896797884086\n"
     ]
    },
    {
     "data": {
      "image/png": "[encoded data removed]",
      "text/plain": [
       "<Figure size 640x480 with 2 Axes>"
      ]
     },
     "metadata": {},
     "output_type": "display_data"
    }
   ],
   "source": [
    "projection_model = torch.load('results_0/model.pth').to('cuda')\n",
    "\n",
    "# Instantiate your custom model\n",
    "clf_head = ClfHead2(projection_size=1)\n",
    "\n",
    "# Move the model to GPU if available\n",
    "clf_head.to('cuda')\n",
    "\n",
    "w1 = len(Data.y_train) / (2 * sum(Data.y_train == 1))\n",
    "\n",
    "# Define class weights tensor\n",
    "class_weights = torch.tensor([w1], dtype=torch.float).to(\"cuda\")\n",
    "criterion = nn.BCEWithLogitsLoss(pos_weight=class_weights)\n",
    "\n",
    "optimizer = torch.optim.Adam(clf_head.parameters(), lr=0.001, weight_decay=0.001)\n",
    "best_loss = 10\n",
    "closing = 0\n",
    "for epoch in range(10):\n",
    "    clf_head.train()\n",
    "    running_loss = 0.0\n",
    "    for inputs, labels in tqdm(train_loader, desc=f'Epoch {epoch+1}/{10}', unit='batch'):  # Adjust train_loader according to your data\n",
    "        inputs, labels = inputs.to('cuda'), labels.to('cuda')\n",
    "        \n",
    "        #proj_outputs = projection_model(inputs)\n",
    "        #outputs = clf_head(proj_outputs)\n",
    "        # Forward pass\n",
    "        reshaped_inputs = inputs.unsqueeze(1)\n",
    "        outputs = clf_head(reshaped_inputs)\n",
    "\n",
    "        loss = criterion(outputs.squeeze(), labels.float())\n",
    "        \n",
    "        # Backward pass and optimization\n",
    "        optimizer.zero_grad()\n",
    "        loss.backward()\n",
    "        optimizer.step()\n",
    "        \n",
    "        running_loss += loss.item() * inputs.size(0)\n",
    "    \n",
    "    epoch_loss = running_loss / len(train_loader.dataset)\n",
    "    print(f'Epoch [{epoch+1}/{5}], Loss: {epoch_loss:.4f}')\n",
    "    if epoch_loss >= best_loss:\n",
    "        closing +=1\n",
    "    else:\n",
    "        best_loss = epoch_loss\n",
    "        closing = 0\n",
    "\n",
    " # Evaluation\n",
    "clf_head.eval()\n",
    "val_running_loss = 0.0\n",
    "correct = 0\n",
    "total = 0\n",
    "all_preds = []\n",
    "all_labels = []\n",
    "with torch.no_grad():\n",
    "    for inputs, labels in val_loader:  \n",
    "        inputs, labels = inputs.to('cuda'), labels.to('cuda')\n",
    "        \n",
    "        #proj_outputs = projection_model(inputs)\n",
    "        #outputs = clf_head(proj_outputs)\n",
    "\n",
    "        reshaped_inputs = inputs.unsqueeze(1)\n",
    "        outputs = clf_head(reshaped_inputs)\n",
    "        #print(outputs.shape)\n",
    "        #print(labels.shape)\n",
    "        loss = criterion(outputs, labels.float().unsqueeze(1))  \n",
    "        val_running_loss += loss.item() * inputs.size(0)\n",
    "\n",
    "        # Calculate accuracy\n",
    "        probabilities = torch.sigmoid(outputs)\n",
    "        predicted = (probabilities > 0.5).int()\n",
    "        all_preds.extend(predicted)\n",
    "        all_labels.extend(labels)\n",
    "        total += labels.size(0)\n",
    "        correct += (predicted == labels).sum().item()\n",
    "\n",
    "val_epoch_loss = val_running_loss / len(val_loader.dataset)\n",
    "val_accuracy = correct / total\n",
    "print(f'Validation - Epoch [{epoch+1}/{10}], Loss: {val_epoch_loss:.4f}, Accuracy: {val_accuracy:.4f}')\n",
    "\n",
    "numpy_arrays = [t.cpu().numpy() for t in all_preds]\n",
    "preds = np.array(numpy_arrays)\n",
    "\n",
    "conf_matrix = metrics.confusion_matrix(Data.y_validation.tolist(), preds)\n",
    "disp = metrics.ConfusionMatrixDisplay(confusion_matrix=conf_matrix)\n",
    "disp.plot()\n",
    "\n",
    "fig = plt.gcf()\n",
    "\n",
    "# Save the figure\n",
    "fig.savefig('clf_confusion_matrix2.png', dpi=300)\n",
    "\n",
    "f1 = metrics.f1_score(Data.y_validation.tolist(), preds)\n",
    "auc = metrics.roc_auc_score(Data.y_validation.tolist(), preds)\n",
    "print('f1: ', f1)\n",
    "print('auc: ', auc)\n"
   ]
  },
  {
   "cell_type": "code",
   "execution_count": 9,
   "metadata": {},
   "outputs": [
    {
     "name": "stderr",
     "output_type": "stream",
     "text": [
      "Epoch 1/10: 100%|██████████| 1786/1786 [00:32<00:00, 54.54batch/s]\n"
     ]
    },
    {
     "name": "stdout",
     "output_type": "stream",
     "text": [
      "Epoch [1/5], Loss: 1.1208\n"
     ]
    },
    {
     "name": "stderr",
     "output_type": "stream",
     "text": [
      "Epoch 2/10: 100%|██████████| 1786/1786 [00:32<00:00, 54.53batch/s]\n"
     ]
    },
    {
     "name": "stdout",
     "output_type": "stream",
     "text": [
      "Epoch [2/5], Loss: 1.1679\n"
     ]
    },
    {
     "name": "stderr",
     "output_type": "stream",
     "text": [
      "Epoch 3/10: 100%|██████████| 1786/1786 [00:32<00:00, 54.18batch/s]\n"
     ]
    },
    {
     "name": "stdout",
     "output_type": "stream",
     "text": [
      "Epoch [3/5], Loss: 1.2278\n"
     ]
    },
    {
     "name": "stderr",
     "output_type": "stream",
     "text": [
      "Epoch 4/10: 100%|██████████| 1786/1786 [00:32<00:00, 54.15batch/s]\n"
     ]
    },
    {
     "name": "stdout",
     "output_type": "stream",
     "text": [
      "Epoch [4/5], Loss: 1.1979\n"
     ]
    },
    {
     "name": "stderr",
     "output_type": "stream",
     "text": [
      "Epoch 5/10: 100%|██████████| 1786/1786 [00:32<00:00, 54.26batch/s]\n"
     ]
    },
    {
     "name": "stdout",
     "output_type": "stream",
     "text": [
      "Epoch [5/5], Loss: 1.1186\n"
     ]
    },
    {
     "name": "stderr",
     "output_type": "stream",
     "text": [
      "Epoch 6/10: 100%|██████████| 1786/1786 [00:33<00:00, 53.87batch/s]\n"
     ]
    },
    {
     "name": "stdout",
     "output_type": "stream",
     "text": [
      "Epoch [6/5], Loss: 1.1234\n"
     ]
    },
    {
     "name": "stderr",
     "output_type": "stream",
     "text": [
      "Epoch 7/10: 100%|██████████| 1786/1786 [00:33<00:00, 53.93batch/s]\n"
     ]
    },
    {
     "name": "stdout",
     "output_type": "stream",
     "text": [
      "Epoch [7/5], Loss: 1.1144\n"
     ]
    },
    {
     "name": "stderr",
     "output_type": "stream",
     "text": [
      "Epoch 8/10: 100%|██████████| 1786/1786 [00:33<00:00, 53.98batch/s]\n"
     ]
    },
    {
     "name": "stdout",
     "output_type": "stream",
     "text": [
      "Epoch [8/5], Loss: 1.0394\n"
     ]
    },
    {
     "name": "stderr",
     "output_type": "stream",
     "text": [
      "Epoch 9/10: 100%|██████████| 1786/1786 [00:32<00:00, 54.46batch/s]\n"
     ]
    },
    {
     "name": "stdout",
     "output_type": "stream",
     "text": [
      "Epoch [9/5], Loss: 1.0628\n"
     ]
    },
    {
     "name": "stderr",
     "output_type": "stream",
     "text": [
      "Epoch 10/10: 100%|██████████| 1786/1786 [00:33<00:00, 53.96batch/s]"
     ]
    },
    {
     "name": "stdout",
     "output_type": "stream",
     "text": [
      "Epoch [10/5], Loss: 1.0815\n"
     ]
    },
    {
     "name": "stderr",
     "output_type": "stream",
     "text": [
      "\n"
     ]
    },
    {
     "name": "stdout",
     "output_type": "stream",
     "text": [
      "Validation - Epoch [10/10], Loss: 0.9243, Accuracy: 28.3686\n",
      "f1:  0.07076350093109869\n",
      "auc:  0.5560986570115296\n"
     ]
    },
    {
     "data": {
      "image/png": "[encoded data removed]",
      "text/plain": [
       "<Figure size 640x480 with 2 Axes>"
      ]
     },
     "metadata": {},
     "output_type": "display_data"
    }
   ],
   "source": [
    "projection_model = torch.load('results_0/model.pth').to('cuda')\n",
    "\n",
    "# Instantiate your custom model\n",
    "clf_head = ClfHead(projection_size=12)\n",
    "\n",
    "# Move the model to GPU if available\n",
    "clf_head.to('cuda')\n",
    "\n",
    "w1 = len(Data.y_train) / (2 * sum(Data.y_train == 1))\n",
    "\n",
    "# Define class weights tensor\n",
    "class_weights = torch.tensor([w1], dtype=torch.float).to(\"cuda\")\n",
    "criterion = nn.BCEWithLogitsLoss(pos_weight=class_weights)\n",
    "\n",
    "optimizer = torch.optim.Adam(clf_head.parameters(), lr=0.001, weight_decay=0.001)\n",
    "best_loss = 10\n",
    "closing = 0\n",
    "for epoch in range(10):\n",
    "    clf_head.train()\n",
    "    running_loss = 0.0\n",
    "    for inputs, labels in tqdm(train_loader, desc=f'Epoch {epoch+1}/{10}', unit='batch'):  # Adjust train_loader according to your data\n",
    "        inputs, labels = inputs.to('cuda'), labels.to('cuda')\n",
    "        \n",
    "        proj_outputs = projection_model(inputs)\n",
    "        outputs = clf_head(proj_outputs)\n",
    "        # Forward pass\n",
    "        #reshaped_inputs = inputs.unsqueeze(1)\n",
    "        #outputs = clf_head(reshaped_inputs)\n",
    "\n",
    "        loss = criterion(outputs.squeeze(), labels.float())\n",
    "        \n",
    "        # Backward pass and optimization\n",
    "        optimizer.zero_grad()\n",
    "        loss.backward()\n",
    "        optimizer.step()\n",
    "        \n",
    "        running_loss += loss.item() * inputs.size(0)\n",
    "    \n",
    "    epoch_loss = running_loss / len(train_loader.dataset)\n",
    "    print(f'Epoch [{epoch+1}/{5}], Loss: {epoch_loss:.4f}')\n",
    "    if epoch_loss >= best_loss:\n",
    "        closing +=1\n",
    "    else:\n",
    "        best_loss = epoch_loss\n",
    "        closing = 0\n",
    "\n",
    " # Evaluation\n",
    "clf_head.eval()\n",
    "val_running_loss = 0.0\n",
    "correct = 0\n",
    "total = 0\n",
    "all_preds = []\n",
    "all_labels = []\n",
    "with torch.no_grad():\n",
    "    for inputs, labels in val_loader:  \n",
    "        inputs, labels = inputs.to('cuda'), labels.to('cuda')\n",
    "        \n",
    "        proj_outputs = projection_model(inputs)\n",
    "        outputs = clf_head(proj_outputs)\n",
    "\n",
    "        #reshaped_inputs = inputs.unsqueeze(1)\n",
    "        #outputs = clf_head(reshaped_inputs)\n",
    "        #print(outputs.shape)\n",
    "        #print(labels.shape)\n",
    "        loss = criterion(outputs, labels.float().unsqueeze(1))  \n",
    "        val_running_loss += loss.item() * inputs.size(0)\n",
    "\n",
    "        # Calculate accuracy\n",
    "        probabilities = torch.sigmoid(outputs)\n",
    "        predicted = (probabilities > 0.5).int()\n",
    "        all_preds.extend(predicted)\n",
    "        all_labels.extend(labels)\n",
    "        total += labels.size(0)\n",
    "        correct += (predicted == labels).sum().item()\n",
    "\n",
    "val_epoch_loss = val_running_loss / len(val_loader.dataset)\n",
    "val_accuracy = correct / total\n",
    "print(f'Validation - Epoch [{epoch+1}/{10}], Loss: {val_epoch_loss:.4f}, Accuracy: {val_accuracy:.4f}')\n",
    "\n",
    "numpy_arrays = [t.cpu().numpy() for t in all_preds]\n",
    "preds = np.array(numpy_arrays)\n",
    "\n",
    "conf_matrix = metrics.confusion_matrix(Data.y_validation.tolist(), preds)\n",
    "disp = metrics.ConfusionMatrixDisplay(confusion_matrix=conf_matrix)\n",
    "disp.plot()\n",
    "\n",
    "fig = plt.gcf()\n",
    "\n",
    "# Save the figure\n",
    "fig.savefig('clf_confusion_matrix2.png', dpi=300)\n",
    "\n",
    "f1 = metrics.f1_score(Data.y_validation.tolist(), preds)\n",
    "auc = metrics.roc_auc_score(Data.y_validation.tolist(), preds)\n",
    "print('f1: ', f1)\n",
    "print('auc: ', auc)"
   ]
  },
  {
   "cell_type": "code",
   "execution_count": 5,
   "metadata": {},
   "outputs": [
    {
     "name": "stderr",
     "output_type": "stream",
     "text": [
      "Epoch 1/10: 100%|██████████| 1786/1786 [00:31<00:00, 56.85batch/s]\n"
     ]
    },
    {
     "name": "stdout",
     "output_type": "stream",
     "text": [
      "Epoch [1/5], Loss: 1.1656\n"
     ]
    },
    {
     "name": "stderr",
     "output_type": "stream",
     "text": [
      "Epoch 2/10: 100%|██████████| 1786/1786 [00:31<00:00, 56.67batch/s]\n"
     ]
    },
    {
     "name": "stdout",
     "output_type": "stream",
     "text": [
      "Epoch [2/5], Loss: 1.0495\n"
     ]
    },
    {
     "name": "stderr",
     "output_type": "stream",
     "text": [
      "Epoch 3/10: 100%|██████████| 1786/1786 [00:31<00:00, 56.82batch/s]\n"
     ]
    },
    {
     "name": "stdout",
     "output_type": "stream",
     "text": [
      "Epoch [3/5], Loss: 1.1608\n"
     ]
    },
    {
     "name": "stderr",
     "output_type": "stream",
     "text": [
      "Epoch 4/10: 100%|██████████| 1786/1786 [00:31<00:00, 56.86batch/s]\n"
     ]
    },
    {
     "name": "stdout",
     "output_type": "stream",
     "text": [
      "Epoch [4/5], Loss: 1.2248\n"
     ]
    },
    {
     "name": "stderr",
     "output_type": "stream",
     "text": [
      "Epoch 5/10: 100%|██████████| 1786/1786 [00:31<00:00, 56.78batch/s]\n"
     ]
    },
    {
     "name": "stdout",
     "output_type": "stream",
     "text": [
      "Epoch [5/5], Loss: 1.2105\n"
     ]
    },
    {
     "name": "stderr",
     "output_type": "stream",
     "text": [
      "Epoch 6/10: 100%|██████████| 1786/1786 [00:31<00:00, 57.14batch/s]\n"
     ]
    },
    {
     "name": "stdout",
     "output_type": "stream",
     "text": [
      "Epoch [6/5], Loss: 1.0621\n"
     ]
    },
    {
     "name": "stderr",
     "output_type": "stream",
     "text": [
      "Epoch 7/10: 100%|██████████| 1786/1786 [00:31<00:00, 57.42batch/s]\n"
     ]
    },
    {
     "name": "stdout",
     "output_type": "stream",
     "text": [
      "Epoch [7/5], Loss: 1.0967\n"
     ]
    },
    {
     "name": "stderr",
     "output_type": "stream",
     "text": [
      "Epoch 8/10: 100%|██████████| 1786/1786 [00:31<00:00, 57.11batch/s]\n"
     ]
    },
    {
     "name": "stdout",
     "output_type": "stream",
     "text": [
      "Epoch [8/5], Loss: 1.0641\n"
     ]
    },
    {
     "name": "stderr",
     "output_type": "stream",
     "text": [
      "Epoch 9/10: 100%|██████████| 1786/1786 [00:31<00:00, 57.08batch/s]\n"
     ]
    },
    {
     "name": "stdout",
     "output_type": "stream",
     "text": [
      "Epoch [9/5], Loss: 1.0404\n"
     ]
    },
    {
     "name": "stderr",
     "output_type": "stream",
     "text": [
      "Epoch 10/10: 100%|██████████| 1786/1786 [00:31<00:00, 56.60batch/s]"
     ]
    },
    {
     "name": "stdout",
     "output_type": "stream",
     "text": [
      "Epoch [10/5], Loss: 1.1067\n"
     ]
    },
    {
     "name": "stderr",
     "output_type": "stream",
     "text": [
      "\n"
     ]
    },
    {
     "name": "stdout",
     "output_type": "stream",
     "text": [
      "Validation - Epoch [10/10], Loss: 0.8575, Accuracy: 30.6525\n",
      "f1:  0.06060606060606061\n",
      "auc:  0.5215468762036822\n"
     ]
    },
    {
     "data": {
      "image/png": "[encoded data removed]",
      "text/plain": [
       "<Figure size 640x480 with 2 Axes>"
      ]
     },
     "metadata": {},
     "output_type": "display_data"
    }
   ],
   "source": [
    "projection_model = torch.load('results_1/model.pth').to('cuda')\n",
    "\n",
    "# Instantiate your custom model\n",
    "clf_head = ClfHead(projection_size=12)\n",
    "\n",
    "# Move the model to GPU if available\n",
    "clf_head.to('cuda')\n",
    "\n",
    "w1 = len(Data.y_train) / (2 * sum(Data.y_train == 1))\n",
    "\n",
    "# Define class weights tensor\n",
    "class_weights = torch.tensor([w1], dtype=torch.float).to(\"cuda\")\n",
    "criterion = nn.BCEWithLogitsLoss(pos_weight=class_weights)\n",
    "\n",
    "optimizer = torch.optim.Adam(clf_head.parameters(), lr=0.001, weight_decay=0.001)\n",
    "best_loss = 10\n",
    "closing = 0\n",
    "for epoch in range(10):\n",
    "    clf_head.train()\n",
    "    running_loss = 0.0\n",
    "    for inputs, labels in tqdm(train_loader, desc=f'Epoch {epoch+1}/{10}', unit='batch'):  # Adjust train_loader according to your data\n",
    "        inputs, labels = inputs.to('cuda'), labels.to('cuda')\n",
    "        \n",
    "        proj_outputs = projection_model(inputs)\n",
    "        outputs = clf_head(proj_outputs)\n",
    "        # Forward pass\n",
    "        #reshaped_inputs = inputs.unsqueeze(1)\n",
    "        #outputs = clf_head(reshaped_inputs)\n",
    "\n",
    "        loss = criterion(outputs.squeeze(), labels.float())\n",
    "        \n",
    "        # Backward pass and optimization\n",
    "        optimizer.zero_grad()\n",
    "        loss.backward()\n",
    "        optimizer.step()\n",
    "        \n",
    "        running_loss += loss.item() * inputs.size(0)\n",
    "    \n",
    "    epoch_loss = running_loss / len(train_loader.dataset)\n",
    "    print(f'Epoch [{epoch+1}/{5}], Loss: {epoch_loss:.4f}')\n",
    "    if epoch_loss >= best_loss:\n",
    "        closing +=1\n",
    "    else:\n",
    "        best_loss = epoch_loss\n",
    "        closing = 0\n",
    "\n",
    " # Evaluation\n",
    "clf_head.eval()\n",
    "val_running_loss = 0.0\n",
    "correct = 0\n",
    "total = 0\n",
    "all_preds = []\n",
    "all_labels = []\n",
    "with torch.no_grad():\n",
    "    for inputs, labels in val_loader:  \n",
    "        inputs, labels = inputs.to('cuda'), labels.to('cuda')\n",
    "        \n",
    "        proj_outputs = projection_model(inputs)\n",
    "        outputs = clf_head(proj_outputs)\n",
    "\n",
    "        #reshaped_inputs = inputs.unsqueeze(1)\n",
    "        #outputs = clf_head(reshaped_inputs)\n",
    "        #print(outputs.shape)\n",
    "        #print(labels.shape)\n",
    "        loss = criterion(outputs, labels.float().unsqueeze(1))  \n",
    "        val_running_loss += loss.item() * inputs.size(0)\n",
    "\n",
    "        # Calculate accuracy\n",
    "        probabilities = torch.sigmoid(outputs)\n",
    "        predicted = (probabilities > 0.5).int()\n",
    "        all_preds.extend(predicted)\n",
    "        all_labels.extend(labels)\n",
    "        total += labels.size(0)\n",
    "        correct += (predicted == labels).sum().item()\n",
    "\n",
    "val_epoch_loss = val_running_loss / len(val_loader.dataset)\n",
    "val_accuracy = correct / total\n",
    "print(f'Validation - Epoch [{epoch+1}/{10}], Loss: {val_epoch_loss:.4f}, Accuracy: {val_accuracy:.4f}')\n",
    "\n",
    "numpy_arrays = [t.cpu().numpy() for t in all_preds]\n",
    "preds = np.array(numpy_arrays)\n",
    "\n",
    "conf_matrix = metrics.confusion_matrix(Data.y_validation.tolist(), preds)\n",
    "disp = metrics.ConfusionMatrixDisplay(confusion_matrix=conf_matrix)\n",
    "disp.plot()\n",
    "\n",
    "fig = plt.gcf()\n",
    "\n",
    "# Save the figure\n",
    "fig.savefig('clf_confusion_matrix2.png', dpi=300)\n",
    "\n",
    "f1 = metrics.f1_score(Data.y_validation.tolist(), preds)\n",
    "auc = metrics.roc_auc_score(Data.y_validation.tolist(), preds)\n",
    "print('f1: ', f1)\n",
    "print('auc: ', auc)"
   ]
  },
  {
   "cell_type": "code",
   "execution_count": null,
   "metadata": {},
   "outputs": [],
   "source": [
    "class ClfHead(nn.Module):\n",
    "    def __init__(self, projection_size):\n",
    "        super(ClfHead, self).__init__()\n",
    "\n",
    "        self.projection_size = projection_size\n",
    "\n",
    "        # Define the classification head\n",
    "        self.classification_head = nn.Sequential(\n",
    "            nn.Linear(2048*self.projection_size,1024),\n",
    "            #nn.Linear(110*1,1024),\n",
    "            nn.ReLU(),\n",
    "            nn.Dropout(0.5),\n",
    "            nn.Linear(1024, 1)# Output layer with 1 unit for binary classification\n",
    "        )\n",
    "\n",
    "    def forward(self, x):\n",
    "        # Flatten the output for the classification head\n",
    "        batch_size, n_tokens, embedding_dimensions = x.size()\n",
    "        #flattened = x.view(batch_size, -1)\n",
    "        flattened = x.reshape(batch_size, -1)\n",
    "        # Forward pass through the classification head\n",
    "        output = self.classification_head(flattened)\n",
    "\n",
    "        return output"
   ]
  },
  {
   "cell_type": "code",
   "execution_count": 5,
   "metadata": {},
   "outputs": [],
   "source": [
    "class ClfHead2(nn.Module):\n",
    "    def __init__(self, projection_size):\n",
    "        super(ClfHead2, self).__init__()\n",
    "\n",
    "        self.projection_size = projection_size\n",
    "\n",
    "        # Define the classification head\n",
    "        self.classification_head = nn.Sequential(\n",
    "            nn.Linear(110*self.projection_size,1024),\n",
    "            #nn.Linear(110*1,1024),\n",
    "            nn.ReLU(),\n",
    "            nn.Dropout(0.5),\n",
    "            nn.Linear(1024, 1)# Output layer with 1 unit for binary classification\n",
    "        )\n",
    "\n",
    "    def forward(self, x):\n",
    "        # Flatten the output for the classification head\n",
    "        batch_size, n_tokens, embedding_dimensions = x.size()\n",
    "        #flattened = x.view(batch_size, -1)\n",
    "        flattened = x.reshape(batch_size, -1)\n",
    "        # Forward pass through the classification head\n",
    "        output = self.classification_head(flattened)\n",
    "\n",
    "        return output"
   ]
  },
  {
   "cell_type": "code",
   "execution_count": 13,
   "metadata": {},
   "outputs": [],
   "source": [
    "with open(r\"results_2/train_losses.pkl\", \"rb\") as input_file:\n",
    "    train_losses = pickle.load(input_file)\n",
    "\n",
    "with open(r\"results_2/train_accs.pkl\", \"rb\") as input_file:\n",
    "    train_accs = pickle.load(input_file)\n",
    "\n",
    "with open(r\"results_2/val_losses.pkl\", \"rb\") as input_file:\n",
    "    val_losses = pickle.load(input_file)\n",
    "\n",
    "with open(r\"results_2/val_accs.pkl\", \"rb\") as input_file:\n",
    "    val_accs = pickle.load(input_file)"
   ]
  },
  {
   "cell_type": "code",
   "execution_count": 14,
   "metadata": {},
   "outputs": [
    {
     "data": {
      "text/plain": [
       "<matplotlib.legend.Legend at 0x7f47719b7b90>"
      ]
     },
     "execution_count": 14,
     "metadata": {},
     "output_type": "execute_result"
    },
    {
     "data": {
      "image/png": "[encoded data removed]",
      "text/plain": [
       "<Figure size 640x480 with 1 Axes>"
      ]
     },
     "metadata": {},
     "output_type": "display_data"
    }
   ],
   "source": [
    "x = list(range(len(train_losses)))\n",
    "\n",
    "repetitions = len(train_losses) // len(val_losses)\n",
    "extended_val_loss = [element for element in val_losses for _ in range(repetitions)]\n",
    "\n",
    "remaining_elements = len(train_losses) % len(val_losses)\n",
    "if remaining_elements > 0:\n",
    "    extended_val_loss += val_losses[:remaining_elements]\n",
    "\n",
    "plt.plot(x, train_losses, color='r', label='train_losses')\n",
    "plt.plot(x, extended_val_loss, color='g', label='val_losses')\n",
    "\n",
    "plt.title('Loss for training and validation')\n",
    "plt.ylabel('Loss')\n",
    "plt.xlabel('batch')\n",
    "\n",
    "plt.legend()"
   ]
  },
  {
   "cell_type": "code",
   "execution_count": 15,
   "metadata": {},
   "outputs": [
    {
     "data": {
      "text/plain": [
       "<matplotlib.legend.Legend at 0x7f4771a3e420>"
      ]
     },
     "execution_count": 15,
     "metadata": {},
     "output_type": "execute_result"
    },
    {
     "data": {
      "image/png": "[encoded data removed]",
      "text/plain": [
       "<Figure size 640x480 with 1 Axes>"
      ]
     },
     "metadata": {},
     "output_type": "display_data"
    }
   ],
   "source": [
    "x = list(range(len(train_accs)))\n",
    "\n",
    "repetitions = len(train_accs) // len(val_accs)\n",
    "extended_val_accs = [element for element in val_accs for _ in range(repetitions)]\n",
    "\n",
    "remaining_elements = len(train_accs) % len(val_accs)\n",
    "if remaining_elements > 0:\n",
    "    extended_val_accs += val_accs[:remaining_elements]\n",
    "\n",
    "plt.plot(x, train_accs, color='r', label='train_losses')\n",
    "plt.plot(x, extended_val_accs, color='g', label='val_losses')\n",
    "\n",
    "plt.title('Accuracy for training and validation')\n",
    "plt.ylabel('Accuracy')\n",
    "plt.xlabel('batch')\n",
    "\n",
    "plt.legend()"
   ]
  }
 ],
 "metadata": {
  "kernelspec": {
   "display_name": "Python 3.12.2 ('gemma')",
   "language": "python",
   "name": "python3"
  },
  "language_info": {
   "codemirror_mode": {
    "name": "ipython",
    "version": 3
   },
   "file_extension": ".py",
   "mimetype": "text/x-python",
   "name": "python",
   "nbconvert_exporter": "python",
   "pygments_lexer": "ipython3",
   "version": "3.12.2"
  },
  "orig_nbformat": 4,
  "vscode": {
   "interpreter": {
    "hash": "10601c873fb2576e1e1a48994b394f584387b3d54a28d8ac07023c991446672f"
   }
  }
 },
 "nbformat": 4,
 "nbformat_minor": 2
}
